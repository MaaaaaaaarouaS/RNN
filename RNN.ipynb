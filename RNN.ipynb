{
  "nbformat": 4,
  "nbformat_minor": 0,
  "metadata": {
    "colab": {
      "name": "RNN.ipynb",
      "provenance": [],
      "collapsed_sections": []
    },
    "kernelspec": {
      "name": "python3",
      "display_name": "Python 3"
    },
    "language_info": {
      "name": "python"
    }
  },
  "cells": [
    {
      "cell_type": "code",
      "metadata": {
        "id": "4iebOhZ5PeOi"
      },
      "source": [
        "import tensorflow as tf\n",
        "import numpy as np\n",
        "import matplotlib.pyplot as plt\n",
        "import pandas as pd\n",
        "from sklearn.preprocessing import MinMaxScaler #la fct qu'on utilise pr normaliser notre bd\n",
        "#importer le modèle séquentiel\n",
        "from tensorflow.keras.models import Sequential\n",
        "#importer les pachages responsables sur les couches\n",
        "from tensorflow.keras.layers import Dense,LSTM #LSMT c'est pour créer les couches RNN"
      ],
      "execution_count": null,
      "outputs": []
    },
    {
      "cell_type": "code",
      "source": [
        "apikey = ''\n",
        "secret = ''"
      ],
      "metadata": {
        "id": "rL_VDybZ5g9m"
      },
      "execution_count": null,
      "outputs": []
    },
    {
      "cell_type": "code",
      "source": [
        "!pip install python-binance"
      ],
      "metadata": {
        "id": "AMaPbMZf5hAl"
      },
      "execution_count": null,
      "outputs": []
    },
    {
      "cell_type": "code",
      "source": [
        "from binance import Client"
      ],
      "metadata": {
        "id": "FcPUCC0L6DVZ"
      },
      "execution_count": null,
      "outputs": []
    },
    {
      "cell_type": "code",
      "source": [
        "client = Client(apikey, secret)"
      ],
      "metadata": {
        "id": "yKoGctDA6DYO"
      },
      "execution_count": null,
      "outputs": []
    },
    {
      "cell_type": "code",
      "source": [
        "historical = client.get_historical_klines('BTCUSDT', Client.KLINE_INTERVAL_1MINUTE, '1 Jan 2022')"
      ],
      "metadata": {
        "id": "sGHXye7N6bGk"
      },
      "execution_count": null,
      "outputs": []
    },
    {
      "cell_type": "code",
      "source": [
        "hist_df = pd.DataFrame(historical)\n",
        "hist_df.head()"
      ],
      "metadata": {
        "colab": {
          "base_uri": "https://localhost:8080/",
          "height": 270
        },
        "id": "AYJEiNjA6bJc",
        "outputId": "55d7bef2-3df1-45b9-ca8c-313228939350"
      },
      "execution_count": null,
      "outputs": [
        {
          "output_type": "execute_result",
          "data": {
            "text/plain": [
              "              0               1               2               3   \\\n",
              "0  1640995200000  46216.93000000  46271.08000000  46208.37000000   \n",
              "1  1640995260000  46250.00000000  46344.23000000  46234.39000000   \n",
              "2  1640995320000  46312.76000000  46381.69000000  46292.75000000   \n",
              "3  1640995380000  46368.73000000  46391.49000000  46314.26000000   \n",
              "4  1640995440000  46331.07000000  46336.10000000  46300.00000000   \n",
              "\n",
              "               4            5              6                 7     8   \\\n",
              "0  46250.00000000  40.57574000  1640995259999  1875978.44269790   796   \n",
              "1  46312.76000000  42.38106000  1640995319999  1961908.27328950   973   \n",
              "2  46368.73000000  51.29955000  1640995379999  2377413.92816950  1238   \n",
              "3  46331.08000000  30.45894000  1640995439999  1412003.86548650   953   \n",
              "4  46321.34000000  20.96029000  1640995499999   971009.86278970   591   \n",
              "\n",
              "            9                 10 11  \n",
              "0  27.26086000  1260270.37206270  0  \n",
              "1  28.92522000  1339049.49591330  0  \n",
              "2  22.74786000  1054134.62555590  0  \n",
              "3  16.12179000   747308.64985660  0  \n",
              "4  11.49082000   532319.85702710  0  "
            ],
            "text/html": [
              "\n",
              "  <div id=\"df-afb0943b-4cc0-4a2c-a419-05c2e72b540c\">\n",
              "    <div class=\"colab-df-container\">\n",
              "      <div>\n",
              "<style scoped>\n",
              "    .dataframe tbody tr th:only-of-type {\n",
              "        vertical-align: middle;\n",
              "    }\n",
              "\n",
              "    .dataframe tbody tr th {\n",
              "        vertical-align: top;\n",
              "    }\n",
              "\n",
              "    .dataframe thead th {\n",
              "        text-align: right;\n",
              "    }\n",
              "</style>\n",
              "<table border=\"1\" class=\"dataframe\">\n",
              "  <thead>\n",
              "    <tr style=\"text-align: right;\">\n",
              "      <th></th>\n",
              "      <th>0</th>\n",
              "      <th>1</th>\n",
              "      <th>2</th>\n",
              "      <th>3</th>\n",
              "      <th>4</th>\n",
              "      <th>5</th>\n",
              "      <th>6</th>\n",
              "      <th>7</th>\n",
              "      <th>8</th>\n",
              "      <th>9</th>\n",
              "      <th>10</th>\n",
              "      <th>11</th>\n",
              "    </tr>\n",
              "  </thead>\n",
              "  <tbody>\n",
              "    <tr>\n",
              "      <th>0</th>\n",
              "      <td>1640995200000</td>\n",
              "      <td>46216.93000000</td>\n",
              "      <td>46271.08000000</td>\n",
              "      <td>46208.37000000</td>\n",
              "      <td>46250.00000000</td>\n",
              "      <td>40.57574000</td>\n",
              "      <td>1640995259999</td>\n",
              "      <td>1875978.44269790</td>\n",
              "      <td>796</td>\n",
              "      <td>27.26086000</td>\n",
              "      <td>1260270.37206270</td>\n",
              "      <td>0</td>\n",
              "    </tr>\n",
              "    <tr>\n",
              "      <th>1</th>\n",
              "      <td>1640995260000</td>\n",
              "      <td>46250.00000000</td>\n",
              "      <td>46344.23000000</td>\n",
              "      <td>46234.39000000</td>\n",
              "      <td>46312.76000000</td>\n",
              "      <td>42.38106000</td>\n",
              "      <td>1640995319999</td>\n",
              "      <td>1961908.27328950</td>\n",
              "      <td>973</td>\n",
              "      <td>28.92522000</td>\n",
              "      <td>1339049.49591330</td>\n",
              "      <td>0</td>\n",
              "    </tr>\n",
              "    <tr>\n",
              "      <th>2</th>\n",
              "      <td>1640995320000</td>\n",
              "      <td>46312.76000000</td>\n",
              "      <td>46381.69000000</td>\n",
              "      <td>46292.75000000</td>\n",
              "      <td>46368.73000000</td>\n",
              "      <td>51.29955000</td>\n",
              "      <td>1640995379999</td>\n",
              "      <td>2377413.92816950</td>\n",
              "      <td>1238</td>\n",
              "      <td>22.74786000</td>\n",
              "      <td>1054134.62555590</td>\n",
              "      <td>0</td>\n",
              "    </tr>\n",
              "    <tr>\n",
              "      <th>3</th>\n",
              "      <td>1640995380000</td>\n",
              "      <td>46368.73000000</td>\n",
              "      <td>46391.49000000</td>\n",
              "      <td>46314.26000000</td>\n",
              "      <td>46331.08000000</td>\n",
              "      <td>30.45894000</td>\n",
              "      <td>1640995439999</td>\n",
              "      <td>1412003.86548650</td>\n",
              "      <td>953</td>\n",
              "      <td>16.12179000</td>\n",
              "      <td>747308.64985660</td>\n",
              "      <td>0</td>\n",
              "    </tr>\n",
              "    <tr>\n",
              "      <th>4</th>\n",
              "      <td>1640995440000</td>\n",
              "      <td>46331.07000000</td>\n",
              "      <td>46336.10000000</td>\n",
              "      <td>46300.00000000</td>\n",
              "      <td>46321.34000000</td>\n",
              "      <td>20.96029000</td>\n",
              "      <td>1640995499999</td>\n",
              "      <td>971009.86278970</td>\n",
              "      <td>591</td>\n",
              "      <td>11.49082000</td>\n",
              "      <td>532319.85702710</td>\n",
              "      <td>0</td>\n",
              "    </tr>\n",
              "  </tbody>\n",
              "</table>\n",
              "</div>\n",
              "      <button class=\"colab-df-convert\" onclick=\"convertToInteractive('df-afb0943b-4cc0-4a2c-a419-05c2e72b540c')\"\n",
              "              title=\"Convert this dataframe to an interactive table.\"\n",
              "              style=\"display:none;\">\n",
              "        \n",
              "  <svg xmlns=\"http://www.w3.org/2000/svg\" height=\"24px\"viewBox=\"0 0 24 24\"\n",
              "       width=\"24px\">\n",
              "    <path d=\"M0 0h24v24H0V0z\" fill=\"none\"/>\n",
              "    <path d=\"M18.56 5.44l.94 2.06.94-2.06 2.06-.94-2.06-.94-.94-2.06-.94 2.06-2.06.94zm-11 1L8.5 8.5l.94-2.06 2.06-.94-2.06-.94L8.5 2.5l-.94 2.06-2.06.94zm10 10l.94 2.06.94-2.06 2.06-.94-2.06-.94-.94-2.06-.94 2.06-2.06.94z\"/><path d=\"M17.41 7.96l-1.37-1.37c-.4-.4-.92-.59-1.43-.59-.52 0-1.04.2-1.43.59L10.3 9.45l-7.72 7.72c-.78.78-.78 2.05 0 2.83L4 21.41c.39.39.9.59 1.41.59.51 0 1.02-.2 1.41-.59l7.78-7.78 2.81-2.81c.8-.78.8-2.07 0-2.86zM5.41 20L4 18.59l7.72-7.72 1.47 1.35L5.41 20z\"/>\n",
              "  </svg>\n",
              "      </button>\n",
              "      \n",
              "  <style>\n",
              "    .colab-df-container {\n",
              "      display:flex;\n",
              "      flex-wrap:wrap;\n",
              "      gap: 12px;\n",
              "    }\n",
              "\n",
              "    .colab-df-convert {\n",
              "      background-color: #E8F0FE;\n",
              "      border: none;\n",
              "      border-radius: 50%;\n",
              "      cursor: pointer;\n",
              "      display: none;\n",
              "      fill: #1967D2;\n",
              "      height: 32px;\n",
              "      padding: 0 0 0 0;\n",
              "      width: 32px;\n",
              "    }\n",
              "\n",
              "    .colab-df-convert:hover {\n",
              "      background-color: #E2EBFA;\n",
              "      box-shadow: 0px 1px 2px rgba(60, 64, 67, 0.3), 0px 1px 3px 1px rgba(60, 64, 67, 0.15);\n",
              "      fill: #174EA6;\n",
              "    }\n",
              "\n",
              "    [theme=dark] .colab-df-convert {\n",
              "      background-color: #3B4455;\n",
              "      fill: #D2E3FC;\n",
              "    }\n",
              "\n",
              "    [theme=dark] .colab-df-convert:hover {\n",
              "      background-color: #434B5C;\n",
              "      box-shadow: 0px 1px 3px 1px rgba(0, 0, 0, 0.15);\n",
              "      filter: drop-shadow(0px 1px 2px rgba(0, 0, 0, 0.3));\n",
              "      fill: #FFFFFF;\n",
              "    }\n",
              "  </style>\n",
              "\n",
              "      <script>\n",
              "        const buttonEl =\n",
              "          document.querySelector('#df-afb0943b-4cc0-4a2c-a419-05c2e72b540c button.colab-df-convert');\n",
              "        buttonEl.style.display =\n",
              "          google.colab.kernel.accessAllowed ? 'block' : 'none';\n",
              "\n",
              "        async function convertToInteractive(key) {\n",
              "          const element = document.querySelector('#df-afb0943b-4cc0-4a2c-a419-05c2e72b540c');\n",
              "          const dataTable =\n",
              "            await google.colab.kernel.invokeFunction('convertToInteractive',\n",
              "                                                     [key], {});\n",
              "          if (!dataTable) return;\n",
              "\n",
              "          const docLinkHtml = 'Like what you see? Visit the ' +\n",
              "            '<a target=\"_blank\" href=https://colab.research.google.com/notebooks/data_table.ipynb>data table notebook</a>'\n",
              "            + ' to learn more about interactive tables.';\n",
              "          element.innerHTML = '';\n",
              "          dataTable['output_type'] = 'display_data';\n",
              "          await google.colab.output.renderOutput(dataTable, element);\n",
              "          const docLink = document.createElement('div');\n",
              "          docLink.innerHTML = docLinkHtml;\n",
              "          element.appendChild(docLink);\n",
              "        }\n",
              "      </script>\n",
              "    </div>\n",
              "  </div>\n",
              "  "
            ]
          },
          "metadata": {},
          "execution_count": 46
        }
      ]
    },
    {
      "cell_type": "code",
      "source": [
        "data=hist_df[[4,6]]\n",
        "data.columns=['Close','Close Time']\n",
        "data"
      ],
      "metadata": {
        "colab": {
          "base_uri": "https://localhost:8080/",
          "height": 424
        },
        "id": "khrw6Ykp7R-j",
        "outputId": "ff5b6066-24cf-4684-8844-00b93889797a"
      },
      "execution_count": null,
      "outputs": [
        {
          "output_type": "execute_result",
          "data": {
            "text/plain": [
              "                 Close     Close Time\n",
              "0       46250.00000000  1640995259999\n",
              "1       46312.76000000  1640995319999\n",
              "2       46368.73000000  1640995379999\n",
              "3       46331.08000000  1640995439999\n",
              "4       46321.34000000  1640995499999\n",
              "...                ...            ...\n",
              "157722  42098.96000000  1650458579999\n",
              "157723  42067.18000000  1650458639999\n",
              "157724  42022.43000000  1650458699999\n",
              "157725  42039.71000000  1650458759999\n",
              "157726  42039.70000000  1650458819999\n",
              "\n",
              "[157727 rows x 2 columns]"
            ],
            "text/html": [
              "\n",
              "  <div id=\"df-7cfbfffe-9834-4487-ac71-f98b04b78c71\">\n",
              "    <div class=\"colab-df-container\">\n",
              "      <div>\n",
              "<style scoped>\n",
              "    .dataframe tbody tr th:only-of-type {\n",
              "        vertical-align: middle;\n",
              "    }\n",
              "\n",
              "    .dataframe tbody tr th {\n",
              "        vertical-align: top;\n",
              "    }\n",
              "\n",
              "    .dataframe thead th {\n",
              "        text-align: right;\n",
              "    }\n",
              "</style>\n",
              "<table border=\"1\" class=\"dataframe\">\n",
              "  <thead>\n",
              "    <tr style=\"text-align: right;\">\n",
              "      <th></th>\n",
              "      <th>Close</th>\n",
              "      <th>Close Time</th>\n",
              "    </tr>\n",
              "  </thead>\n",
              "  <tbody>\n",
              "    <tr>\n",
              "      <th>0</th>\n",
              "      <td>46250.00000000</td>\n",
              "      <td>1640995259999</td>\n",
              "    </tr>\n",
              "    <tr>\n",
              "      <th>1</th>\n",
              "      <td>46312.76000000</td>\n",
              "      <td>1640995319999</td>\n",
              "    </tr>\n",
              "    <tr>\n",
              "      <th>2</th>\n",
              "      <td>46368.73000000</td>\n",
              "      <td>1640995379999</td>\n",
              "    </tr>\n",
              "    <tr>\n",
              "      <th>3</th>\n",
              "      <td>46331.08000000</td>\n",
              "      <td>1640995439999</td>\n",
              "    </tr>\n",
              "    <tr>\n",
              "      <th>4</th>\n",
              "      <td>46321.34000000</td>\n",
              "      <td>1640995499999</td>\n",
              "    </tr>\n",
              "    <tr>\n",
              "      <th>...</th>\n",
              "      <td>...</td>\n",
              "      <td>...</td>\n",
              "    </tr>\n",
              "    <tr>\n",
              "      <th>157722</th>\n",
              "      <td>42098.96000000</td>\n",
              "      <td>1650458579999</td>\n",
              "    </tr>\n",
              "    <tr>\n",
              "      <th>157723</th>\n",
              "      <td>42067.18000000</td>\n",
              "      <td>1650458639999</td>\n",
              "    </tr>\n",
              "    <tr>\n",
              "      <th>157724</th>\n",
              "      <td>42022.43000000</td>\n",
              "      <td>1650458699999</td>\n",
              "    </tr>\n",
              "    <tr>\n",
              "      <th>157725</th>\n",
              "      <td>42039.71000000</td>\n",
              "      <td>1650458759999</td>\n",
              "    </tr>\n",
              "    <tr>\n",
              "      <th>157726</th>\n",
              "      <td>42039.70000000</td>\n",
              "      <td>1650458819999</td>\n",
              "    </tr>\n",
              "  </tbody>\n",
              "</table>\n",
              "<p>157727 rows × 2 columns</p>\n",
              "</div>\n",
              "      <button class=\"colab-df-convert\" onclick=\"convertToInteractive('df-7cfbfffe-9834-4487-ac71-f98b04b78c71')\"\n",
              "              title=\"Convert this dataframe to an interactive table.\"\n",
              "              style=\"display:none;\">\n",
              "        \n",
              "  <svg xmlns=\"http://www.w3.org/2000/svg\" height=\"24px\"viewBox=\"0 0 24 24\"\n",
              "       width=\"24px\">\n",
              "    <path d=\"M0 0h24v24H0V0z\" fill=\"none\"/>\n",
              "    <path d=\"M18.56 5.44l.94 2.06.94-2.06 2.06-.94-2.06-.94-.94-2.06-.94 2.06-2.06.94zm-11 1L8.5 8.5l.94-2.06 2.06-.94-2.06-.94L8.5 2.5l-.94 2.06-2.06.94zm10 10l.94 2.06.94-2.06 2.06-.94-2.06-.94-.94-2.06-.94 2.06-2.06.94z\"/><path d=\"M17.41 7.96l-1.37-1.37c-.4-.4-.92-.59-1.43-.59-.52 0-1.04.2-1.43.59L10.3 9.45l-7.72 7.72c-.78.78-.78 2.05 0 2.83L4 21.41c.39.39.9.59 1.41.59.51 0 1.02-.2 1.41-.59l7.78-7.78 2.81-2.81c.8-.78.8-2.07 0-2.86zM5.41 20L4 18.59l7.72-7.72 1.47 1.35L5.41 20z\"/>\n",
              "  </svg>\n",
              "      </button>\n",
              "      \n",
              "  <style>\n",
              "    .colab-df-container {\n",
              "      display:flex;\n",
              "      flex-wrap:wrap;\n",
              "      gap: 12px;\n",
              "    }\n",
              "\n",
              "    .colab-df-convert {\n",
              "      background-color: #E8F0FE;\n",
              "      border: none;\n",
              "      border-radius: 50%;\n",
              "      cursor: pointer;\n",
              "      display: none;\n",
              "      fill: #1967D2;\n",
              "      height: 32px;\n",
              "      padding: 0 0 0 0;\n",
              "      width: 32px;\n",
              "    }\n",
              "\n",
              "    .colab-df-convert:hover {\n",
              "      background-color: #E2EBFA;\n",
              "      box-shadow: 0px 1px 2px rgba(60, 64, 67, 0.3), 0px 1px 3px 1px rgba(60, 64, 67, 0.15);\n",
              "      fill: #174EA6;\n",
              "    }\n",
              "\n",
              "    [theme=dark] .colab-df-convert {\n",
              "      background-color: #3B4455;\n",
              "      fill: #D2E3FC;\n",
              "    }\n",
              "\n",
              "    [theme=dark] .colab-df-convert:hover {\n",
              "      background-color: #434B5C;\n",
              "      box-shadow: 0px 1px 3px 1px rgba(0, 0, 0, 0.15);\n",
              "      filter: drop-shadow(0px 1px 2px rgba(0, 0, 0, 0.3));\n",
              "      fill: #FFFFFF;\n",
              "    }\n",
              "  </style>\n",
              "\n",
              "      <script>\n",
              "        const buttonEl =\n",
              "          document.querySelector('#df-7cfbfffe-9834-4487-ac71-f98b04b78c71 button.colab-df-convert');\n",
              "        buttonEl.style.display =\n",
              "          google.colab.kernel.accessAllowed ? 'block' : 'none';\n",
              "\n",
              "        async function convertToInteractive(key) {\n",
              "          const element = document.querySelector('#df-7cfbfffe-9834-4487-ac71-f98b04b78c71');\n",
              "          const dataTable =\n",
              "            await google.colab.kernel.invokeFunction('convertToInteractive',\n",
              "                                                     [key], {});\n",
              "          if (!dataTable) return;\n",
              "\n",
              "          const docLinkHtml = 'Like what you see? Visit the ' +\n",
              "            '<a target=\"_blank\" href=https://colab.research.google.com/notebooks/data_table.ipynb>data table notebook</a>'\n",
              "            + ' to learn more about interactive tables.';\n",
              "          element.innerHTML = '';\n",
              "          dataTable['output_type'] = 'display_data';\n",
              "          await google.colab.output.renderOutput(dataTable, element);\n",
              "          const docLink = document.createElement('div');\n",
              "          docLink.innerHTML = docLinkHtml;\n",
              "          element.appendChild(docLink);\n",
              "        }\n",
              "      </script>\n",
              "    </div>\n",
              "  </div>\n",
              "  "
            ]
          },
          "metadata": {},
          "execution_count": 47
        }
      ]
    },
    {
      "cell_type": "code",
      "source": [
        "data['Close Time'] = pd.to_datetime(data['Close Time']/1000, unit='s')\n",
        "data[['Close']] = data[['Close']].apply(pd.to_numeric, axis=1)\n",
        "data.tail()"
      ],
      "metadata": {
        "colab": {
          "base_uri": "https://localhost:8080/",
          "height": 414
        },
        "id": "XuFp61lu7SAX",
        "outputId": "e341cbda-2e2a-4733-bc75-993d46c3ba1d"
      },
      "execution_count": null,
      "outputs": [
        {
          "output_type": "stream",
          "name": "stderr",
          "text": [
            "/usr/local/lib/python3.7/dist-packages/ipykernel_launcher.py:2: SettingWithCopyWarning: \n",
            "A value is trying to be set on a copy of a slice from a DataFrame.\n",
            "Try using .loc[row_indexer,col_indexer] = value instead\n",
            "\n",
            "See the caveats in the documentation: https://pandas.pydata.org/pandas-docs/stable/user_guide/indexing.html#returning-a-view-versus-a-copy\n",
            "  \n",
            "/usr/local/lib/python3.7/dist-packages/pandas/core/frame.py:3641: SettingWithCopyWarning: \n",
            "A value is trying to be set on a copy of a slice from a DataFrame.\n",
            "Try using .loc[row_indexer,col_indexer] = value instead\n",
            "\n",
            "See the caveats in the documentation: https://pandas.pydata.org/pandas-docs/stable/user_guide/indexing.html#returning-a-view-versus-a-copy\n",
            "  self[k1] = value[k2]\n"
          ]
        },
        {
          "output_type": "execute_result",
          "data": {
            "text/plain": [
              "           Close                    Close Time\n",
              "157722  42098.96 2022-04-20 12:42:59.999000064\n",
              "157723  42067.18 2022-04-20 12:43:59.999000064\n",
              "157724  42022.43 2022-04-20 12:44:59.999000064\n",
              "157725  42039.71 2022-04-20 12:45:59.999000064\n",
              "157726  42039.70 2022-04-20 12:46:59.999000064"
            ],
            "text/html": [
              "\n",
              "  <div id=\"df-b8da127b-c1c5-43ac-897d-adfc47c6d326\">\n",
              "    <div class=\"colab-df-container\">\n",
              "      <div>\n",
              "<style scoped>\n",
              "    .dataframe tbody tr th:only-of-type {\n",
              "        vertical-align: middle;\n",
              "    }\n",
              "\n",
              "    .dataframe tbody tr th {\n",
              "        vertical-align: top;\n",
              "    }\n",
              "\n",
              "    .dataframe thead th {\n",
              "        text-align: right;\n",
              "    }\n",
              "</style>\n",
              "<table border=\"1\" class=\"dataframe\">\n",
              "  <thead>\n",
              "    <tr style=\"text-align: right;\">\n",
              "      <th></th>\n",
              "      <th>Close</th>\n",
              "      <th>Close Time</th>\n",
              "    </tr>\n",
              "  </thead>\n",
              "  <tbody>\n",
              "    <tr>\n",
              "      <th>157722</th>\n",
              "      <td>42098.96</td>\n",
              "      <td>2022-04-20 12:42:59.999000064</td>\n",
              "    </tr>\n",
              "    <tr>\n",
              "      <th>157723</th>\n",
              "      <td>42067.18</td>\n",
              "      <td>2022-04-20 12:43:59.999000064</td>\n",
              "    </tr>\n",
              "    <tr>\n",
              "      <th>157724</th>\n",
              "      <td>42022.43</td>\n",
              "      <td>2022-04-20 12:44:59.999000064</td>\n",
              "    </tr>\n",
              "    <tr>\n",
              "      <th>157725</th>\n",
              "      <td>42039.71</td>\n",
              "      <td>2022-04-20 12:45:59.999000064</td>\n",
              "    </tr>\n",
              "    <tr>\n",
              "      <th>157726</th>\n",
              "      <td>42039.70</td>\n",
              "      <td>2022-04-20 12:46:59.999000064</td>\n",
              "    </tr>\n",
              "  </tbody>\n",
              "</table>\n",
              "</div>\n",
              "      <button class=\"colab-df-convert\" onclick=\"convertToInteractive('df-b8da127b-c1c5-43ac-897d-adfc47c6d326')\"\n",
              "              title=\"Convert this dataframe to an interactive table.\"\n",
              "              style=\"display:none;\">\n",
              "        \n",
              "  <svg xmlns=\"http://www.w3.org/2000/svg\" height=\"24px\"viewBox=\"0 0 24 24\"\n",
              "       width=\"24px\">\n",
              "    <path d=\"M0 0h24v24H0V0z\" fill=\"none\"/>\n",
              "    <path d=\"M18.56 5.44l.94 2.06.94-2.06 2.06-.94-2.06-.94-.94-2.06-.94 2.06-2.06.94zm-11 1L8.5 8.5l.94-2.06 2.06-.94-2.06-.94L8.5 2.5l-.94 2.06-2.06.94zm10 10l.94 2.06.94-2.06 2.06-.94-2.06-.94-.94-2.06-.94 2.06-2.06.94z\"/><path d=\"M17.41 7.96l-1.37-1.37c-.4-.4-.92-.59-1.43-.59-.52 0-1.04.2-1.43.59L10.3 9.45l-7.72 7.72c-.78.78-.78 2.05 0 2.83L4 21.41c.39.39.9.59 1.41.59.51 0 1.02-.2 1.41-.59l7.78-7.78 2.81-2.81c.8-.78.8-2.07 0-2.86zM5.41 20L4 18.59l7.72-7.72 1.47 1.35L5.41 20z\"/>\n",
              "  </svg>\n",
              "      </button>\n",
              "      \n",
              "  <style>\n",
              "    .colab-df-container {\n",
              "      display:flex;\n",
              "      flex-wrap:wrap;\n",
              "      gap: 12px;\n",
              "    }\n",
              "\n",
              "    .colab-df-convert {\n",
              "      background-color: #E8F0FE;\n",
              "      border: none;\n",
              "      border-radius: 50%;\n",
              "      cursor: pointer;\n",
              "      display: none;\n",
              "      fill: #1967D2;\n",
              "      height: 32px;\n",
              "      padding: 0 0 0 0;\n",
              "      width: 32px;\n",
              "    }\n",
              "\n",
              "    .colab-df-convert:hover {\n",
              "      background-color: #E2EBFA;\n",
              "      box-shadow: 0px 1px 2px rgba(60, 64, 67, 0.3), 0px 1px 3px 1px rgba(60, 64, 67, 0.15);\n",
              "      fill: #174EA6;\n",
              "    }\n",
              "\n",
              "    [theme=dark] .colab-df-convert {\n",
              "      background-color: #3B4455;\n",
              "      fill: #D2E3FC;\n",
              "    }\n",
              "\n",
              "    [theme=dark] .colab-df-convert:hover {\n",
              "      background-color: #434B5C;\n",
              "      box-shadow: 0px 1px 3px 1px rgba(0, 0, 0, 0.15);\n",
              "      filter: drop-shadow(0px 1px 2px rgba(0, 0, 0, 0.3));\n",
              "      fill: #FFFFFF;\n",
              "    }\n",
              "  </style>\n",
              "\n",
              "      <script>\n",
              "        const buttonEl =\n",
              "          document.querySelector('#df-b8da127b-c1c5-43ac-897d-adfc47c6d326 button.colab-df-convert');\n",
              "        buttonEl.style.display =\n",
              "          google.colab.kernel.accessAllowed ? 'block' : 'none';\n",
              "\n",
              "        async function convertToInteractive(key) {\n",
              "          const element = document.querySelector('#df-b8da127b-c1c5-43ac-897d-adfc47c6d326');\n",
              "          const dataTable =\n",
              "            await google.colab.kernel.invokeFunction('convertToInteractive',\n",
              "                                                     [key], {});\n",
              "          if (!dataTable) return;\n",
              "\n",
              "          const docLinkHtml = 'Like what you see? Visit the ' +\n",
              "            '<a target=\"_blank\" href=https://colab.research.google.com/notebooks/data_table.ipynb>data table notebook</a>'\n",
              "            + ' to learn more about interactive tables.';\n",
              "          element.innerHTML = '';\n",
              "          dataTable['output_type'] = 'display_data';\n",
              "          await google.colab.output.renderOutput(dataTable, element);\n",
              "          const docLink = document.createElement('div');\n",
              "          docLink.innerHTML = docLinkHtml;\n",
              "          element.appendChild(docLink);\n",
              "        }\n",
              "      </script>\n",
              "    </div>\n",
              "  </div>\n",
              "  "
            ]
          },
          "metadata": {},
          "execution_count": 48
        }
      ]
    },
    {
      "cell_type": "code",
      "metadata": {
        "colab": {
          "base_uri": "https://localhost:8080/"
        },
        "id": "OYYzMiS4Re1P",
        "outputId": "c05931e3-12c5-415f-90ba-4a1613f2de0e"
      },
      "source": [
        "#convertir le dataframe en format array (le format qu'on aura besoin pour notre réseau de norone)\n",
        "data=data[['Close']].values\n",
        "data"
      ],
      "execution_count": null,
      "outputs": [
        {
          "output_type": "execute_result",
          "data": {
            "text/plain": [
              "array([[46250.  ],\n",
              "       [46312.76],\n",
              "       [46368.73],\n",
              "       ...,\n",
              "       [42022.43],\n",
              "       [42039.71],\n",
              "       [42039.7 ]])"
            ]
          },
          "metadata": {},
          "execution_count": 51
        }
      ]
    },
    {
      "cell_type": "code",
      "metadata": {
        "colab": {
          "base_uri": "https://localhost:8080/"
        },
        "id": "cnu_hTeBSOnz",
        "outputId": "6c700b27-b05c-476f-f0f9-5e99318c0ed4"
      },
      "source": [
        "#préparation de la base de donnée\n",
        "#1)Normaliser la données(toutes les valeurs soit entre 0 et 1)\n",
        "sc=MinMaxScaler(feature_range=(0,1))\n",
        "data_scaled=sc.fit_transform(data)\n",
        "data_scaled"
      ],
      "execution_count": null,
      "outputs": [
        {
          "output_type": "execute_result",
          "data": {
            "text/plain": [
              "array([[0.87328544],\n",
              "       [0.87743971],\n",
              "       [0.88114453],\n",
              "       ...,\n",
              "       [0.59344994],\n",
              "       [0.59459375],\n",
              "       [0.59459309]])"
            ]
          },
          "metadata": {},
          "execution_count": 52
        }
      ]
    },
    {
      "cell_type": "code",
      "source": [
        "data_scaled[0,0]"
      ],
      "metadata": {
        "id": "joY4n6Doq2OA",
        "colab": {
          "base_uri": "https://localhost:8080/"
        },
        "outputId": "d286a896-d90e-4de5-9168-48ca7c8520e6"
      },
      "execution_count": null,
      "outputs": [
        {
          "output_type": "execute_result",
          "data": {
            "text/plain": [
              "0.8732854360860354"
            ]
          },
          "metadata": {},
          "execution_count": 57
        }
      ]
    },
    {
      "cell_type": "code",
      "metadata": {
        "colab": {
          "base_uri": "https://localhost:8080/"
        },
        "id": "zYOBIe1oT_mQ",
        "outputId": "20db3b26-4235-44c6-ef21-40b54a7c3808"
      },
      "source": [
        "#X_data => input\n",
        "#y_data => output\n",
        "X_data=[]\n",
        "y_data=[]\n",
        "look_back=1\n",
        "for i in range(len(data_scaled)-1):\n",
        "  X_data.append(data_scaled[i:(i+look_back),0])\n",
        "  y_data.append(data_scaled[i+look_back,0])\n",
        "X_data,y_data=np.array(X_data),np.array(y_data)\n",
        "print(X_data)\n",
        "print(y_data)  "
      ],
      "execution_count": null,
      "outputs": [
        {
          "output_type": "stream",
          "name": "stdout",
          "text": [
            "[[0.87328544]\n",
            " [0.87743971]\n",
            " [0.88114453]\n",
            " ...\n",
            " [0.59641208]\n",
            " [0.59344994]\n",
            " [0.59459375]]\n",
            "[0.87743971 0.88114453 0.87865236 ... 0.59344994 0.59459375 0.59459309]\n"
          ]
        }
      ]
    },
    {
      "cell_type": "code",
      "source": [
        "print(X_data.shape[0],X_data.shape[1])"
      ],
      "metadata": {
        "id": "I9RaYe58tXyU",
        "colab": {
          "base_uri": "https://localhost:8080/"
        },
        "outputId": "0a841186-ca45-42be-fbda-1359bafeb976"
      },
      "execution_count": null,
      "outputs": [
        {
          "output_type": "stream",
          "name": "stdout",
          "text": [
            "157726 1\n"
          ]
        }
      ]
    },
    {
      "cell_type": "code",
      "source": [
        "print(y_data.shape[0])"
      ],
      "metadata": {
        "colab": {
          "base_uri": "https://localhost:8080/"
        },
        "id": "_kB-1QOmJGTz",
        "outputId": "f0e05876-ac75-406c-f6a5-bbd3cd2a8994"
      },
      "execution_count": null,
      "outputs": [
        {
          "output_type": "stream",
          "name": "stdout",
          "text": [
            "157726\n"
          ]
        }
      ]
    },
    {
      "cell_type": "code",
      "source": [
        "# Reshaping (Avoir des données en 3 dimensions pour pouvoir les passer dans notre réseau de neurone)\n",
        "X_data=np.reshape(X_data,(X_data.shape[0],X_data.shape[1],1))\n",
        "X_data"
      ],
      "metadata": {
        "colab": {
          "base_uri": "https://localhost:8080/"
        },
        "id": "vo0S6-hsslFS",
        "outputId": "1ec70083-3cce-42b8-8e5d-476a8a0d6c55"
      },
      "execution_count": null,
      "outputs": [
        {
          "output_type": "execute_result",
          "data": {
            "text/plain": [
              "array([[[0.87328544]],\n",
              "\n",
              "       [[0.87743971]],\n",
              "\n",
              "       [[0.88114453]],\n",
              "\n",
              "       ...,\n",
              "\n",
              "       [[0.59641208]],\n",
              "\n",
              "       [[0.59344994]],\n",
              "\n",
              "       [[0.59459375]]])"
            ]
          },
          "metadata": {},
          "execution_count": 72
        }
      ]
    },
    {
      "cell_type": "code",
      "source": [
        "X_data.shape"
      ],
      "metadata": {
        "colab": {
          "base_uri": "https://localhost:8080/"
        },
        "id": "2hwDIzl0vCx9",
        "outputId": "d94c29c0-9091-4aef-8cc4-018d5afff494"
      },
      "execution_count": null,
      "outputs": [
        {
          "output_type": "execute_result",
          "data": {
            "text/plain": [
              "(157726, 1, 1)"
            ]
          },
          "metadata": {},
          "execution_count": 73
        }
      ]
    },
    {
      "cell_type": "code",
      "source": [
        "# Split data into Test and Train\n",
        "train_size=int(len(X_data)*0.7) #70% des données d'entrainement\n",
        "test_size=len(X_data)-train_size\n",
        "X_train=X_data[0:train_size,:]\n",
        "X_test=X_data[train_size:len(X_data),:]\n",
        "y_train=y_data[0:train_size]\n",
        "y_test=y_data[train_size:len(y_data)]"
      ],
      "metadata": {
        "id": "3oS3fYA6vKF7"
      },
      "execution_count": null,
      "outputs": []
    },
    {
      "cell_type": "code",
      "source": [
        "X_train.shape"
      ],
      "metadata": {
        "colab": {
          "base_uri": "https://localhost:8080/"
        },
        "id": "kMVx21vNyTW8",
        "outputId": "b429487c-83c7-4364-c391-d9a73a6d0c3f"
      },
      "execution_count": null,
      "outputs": [
        {
          "output_type": "execute_result",
          "data": {
            "text/plain": [
              "(110408, 1, 1)"
            ]
          },
          "metadata": {},
          "execution_count": 75
        }
      ]
    },
    {
      "cell_type": "code",
      "source": [
        "y_train.shape"
      ],
      "metadata": {
        "colab": {
          "base_uri": "https://localhost:8080/"
        },
        "id": "uza3RvO9yXN7",
        "outputId": "2467695a-0199-41f4-f26a-8bec0121779a"
      },
      "execution_count": null,
      "outputs": [
        {
          "output_type": "execute_result",
          "data": {
            "text/plain": [
              "(110408,)"
            ]
          },
          "metadata": {},
          "execution_count": 76
        }
      ]
    },
    {
      "cell_type": "code",
      "source": [
        "X_test.shape"
      ],
      "metadata": {
        "colab": {
          "base_uri": "https://localhost:8080/"
        },
        "id": "Jwxhagksyfor",
        "outputId": "dd0604d5-148f-40a3-9761-faf911c34e99"
      },
      "execution_count": null,
      "outputs": [
        {
          "output_type": "execute_result",
          "data": {
            "text/plain": [
              "(47318, 1, 1)"
            ]
          },
          "metadata": {},
          "execution_count": 77
        }
      ]
    },
    {
      "cell_type": "code",
      "source": [
        "y_test.shape"
      ],
      "metadata": {
        "colab": {
          "base_uri": "https://localhost:8080/"
        },
        "id": "C11NRNmkyj-4",
        "outputId": "9d48816e-7cf1-456f-d6e9-487f0cf08106"
      },
      "execution_count": null,
      "outputs": [
        {
          "output_type": "execute_result",
          "data": {
            "text/plain": [
              "(47318,)"
            ]
          },
          "metadata": {},
          "execution_count": 78
        }
      ]
    },
    {
      "cell_type": "code",
      "source": [
        "#Construction de RNN\n",
        "#return_sequences=True si on veut ajouter d'autres couches LSTM\n",
        "#units=50 i-e 50 noeuds\n",
        "model=Sequential()\n",
        "model.add(LSTM(units=50,return_sequences=True,input_shape=(X_train.shape[1],1)))\n",
        "model.add(LSTM(units=50,return_sequences=True))\n",
        "model.add(LSTM(units=50))\n",
        "\n",
        "#Ajouter la couche de sortie\n",
        "#optimizer pour l'optimisation des poids\n",
        "#puisque c'est un contexte de regression (prédiction d'une valeur) on utilise la fct du perte suivant\n",
        "model.add(Dense(units=1))\n",
        "model.compile(optimizer='adam',loss='mean_squared_error')\n",
        "model.summary()\n",
        "#model.summary() pour afficher les couches"
      ],
      "metadata": {
        "colab": {
          "base_uri": "https://localhost:8080/"
        },
        "id": "rvtsQrHLyw4n",
        "outputId": "90fef24c-a2ac-48d8-8fd3-c3df4b4a5641"
      },
      "execution_count": null,
      "outputs": [
        {
          "output_type": "stream",
          "name": "stdout",
          "text": [
            "Model: \"sequential_1\"\n",
            "_________________________________________________________________\n",
            " Layer (type)                Output Shape              Param #   \n",
            "=================================================================\n",
            " lstm_3 (LSTM)               (None, 1, 50)             10400     \n",
            "                                                                 \n",
            " lstm_4 (LSTM)               (None, 1, 50)             20200     \n",
            "                                                                 \n",
            " lstm_5 (LSTM)               (None, 50)                20200     \n",
            "                                                                 \n",
            " dense_1 (Dense)             (None, 1)                 51        \n",
            "                                                                 \n",
            "=================================================================\n",
            "Total params: 50,851\n",
            "Trainable params: 50,851\n",
            "Non-trainable params: 0\n",
            "_________________________________________________________________\n"
          ]
        }
      ]
    },
    {
      "cell_type": "code",
      "source": [
        "#fiting model\n",
        "model.fit(X_train,y_train,epochs=100,batch_size=32)"
      ],
      "metadata": {
        "colab": {
          "base_uri": "https://localhost:8080/"
        },
        "id": "uR5EtQy32xdu",
        "outputId": "a63fac20-6306-4b86-e0a3-2338afcbdb9b"
      },
      "execution_count": null,
      "outputs": [
        {
          "output_type": "stream",
          "name": "stdout",
          "text": [
            "Epoch 1/100\n",
            "3451/3451 [==============================] - 26s 6ms/step - loss: 0.0028\n",
            "Epoch 2/100\n",
            "3451/3451 [==============================] - 21s 6ms/step - loss: 9.2294e-06\n",
            "Epoch 3/100\n",
            "3451/3451 [==============================] - 21s 6ms/step - loss: 9.8935e-06\n",
            "Epoch 4/100\n",
            "3451/3451 [==============================] - 21s 6ms/step - loss: 9.9268e-06\n",
            "Epoch 5/100\n",
            "3451/3451 [==============================] - 21s 6ms/step - loss: 9.4581e-06\n",
            "Epoch 6/100\n",
            "3451/3451 [==============================] - 21s 6ms/step - loss: 9.7016e-06\n",
            "Epoch 7/100\n",
            "3451/3451 [==============================] - 21s 6ms/step - loss: 9.7309e-06\n",
            "Epoch 8/100\n",
            "3451/3451 [==============================] - 21s 6ms/step - loss: 9.2962e-06\n",
            "Epoch 9/100\n",
            "3451/3451 [==============================] - 21s 6ms/step - loss: 9.5677e-06\n",
            "Epoch 10/100\n",
            "3451/3451 [==============================] - 21s 6ms/step - loss: 9.2100e-06\n",
            "Epoch 11/100\n",
            "3451/3451 [==============================] - 21s 6ms/step - loss: 9.2105e-06\n",
            "Epoch 12/100\n",
            "3451/3451 [==============================] - 21s 6ms/step - loss: 9.2003e-06\n",
            "Epoch 13/100\n",
            "3451/3451 [==============================] - 21s 6ms/step - loss: 9.0542e-06\n",
            "Epoch 14/100\n",
            "3451/3451 [==============================] - 21s 6ms/step - loss: 9.3882e-06\n",
            "Epoch 15/100\n",
            "3451/3451 [==============================] - 22s 6ms/step - loss: 9.3773e-06\n",
            "Epoch 16/100\n",
            "3451/3451 [==============================] - 26s 7ms/step - loss: 9.1242e-06\n",
            "Epoch 17/100\n",
            "3451/3451 [==============================] - 24s 7ms/step - loss: 9.3175e-06\n",
            "Epoch 18/100\n",
            "3451/3451 [==============================] - 23s 7ms/step - loss: 9.3609e-06\n",
            "Epoch 19/100\n",
            "3451/3451 [==============================] - 23s 7ms/step - loss: 8.8603e-06\n",
            "Epoch 20/100\n",
            "3451/3451 [==============================] - 21s 6ms/step - loss: 9.2112e-06\n",
            "Epoch 21/100\n",
            "3451/3451 [==============================] - 25s 7ms/step - loss: 8.9007e-06\n",
            "Epoch 22/100\n",
            "3451/3451 [==============================] - 32s 9ms/step - loss: 8.9355e-06\n",
            "Epoch 23/100\n",
            "3451/3451 [==============================] - 28s 8ms/step - loss: 8.9026e-06\n",
            "Epoch 24/100\n",
            "3451/3451 [==============================] - 22s 6ms/step - loss: 8.9227e-06\n",
            "Epoch 25/100\n",
            "3451/3451 [==============================] - 29s 8ms/step - loss: 8.7910e-06\n",
            "Epoch 26/100\n",
            "3451/3451 [==============================] - 24s 7ms/step - loss: 9.1763e-06\n",
            "Epoch 27/100\n",
            "3451/3451 [==============================] - 27s 8ms/step - loss: 8.9097e-06\n",
            "Epoch 28/100\n",
            "3451/3451 [==============================] - 21s 6ms/step - loss: 8.9237e-06\n",
            "Epoch 29/100\n",
            "3451/3451 [==============================] - 21s 6ms/step - loss: 8.8771e-06\n",
            "Epoch 30/100\n",
            "3451/3451 [==============================] - 21s 6ms/step - loss: 8.8107e-06\n",
            "Epoch 31/100\n",
            "3451/3451 [==============================] - 21s 6ms/step - loss: 8.7913e-06\n",
            "Epoch 32/100\n",
            "3451/3451 [==============================] - 21s 6ms/step - loss: 8.8380e-06\n",
            "Epoch 33/100\n",
            "3451/3451 [==============================] - 21s 6ms/step - loss: 8.6502e-06\n",
            "Epoch 34/100\n",
            "3451/3451 [==============================] - 24s 7ms/step - loss: 8.7453e-06\n",
            "Epoch 35/100\n",
            "3451/3451 [==============================] - 25s 7ms/step - loss: 8.7196e-06\n",
            "Epoch 36/100\n",
            "3451/3451 [==============================] - 26s 7ms/step - loss: 8.6920e-06\n",
            "Epoch 37/100\n",
            "3451/3451 [==============================] - 21s 6ms/step - loss: 8.5375e-06\n",
            "Epoch 38/100\n",
            "3451/3451 [==============================] - 21s 6ms/step - loss: 8.6414e-06\n",
            "Epoch 39/100\n",
            "3451/3451 [==============================] - 21s 6ms/step - loss: 8.6210e-06\n",
            "Epoch 40/100\n",
            "3451/3451 [==============================] - 22s 6ms/step - loss: 8.6674e-06\n",
            "Epoch 41/100\n",
            "3451/3451 [==============================] - 21s 6ms/step - loss: 8.7291e-06\n",
            "Epoch 42/100\n",
            "3451/3451 [==============================] - 21s 6ms/step - loss: 8.3926e-06\n",
            "Epoch 43/100\n",
            "3451/3451 [==============================] - 21s 6ms/step - loss: 8.5490e-06\n",
            "Epoch 44/100\n",
            "3451/3451 [==============================] - 21s 6ms/step - loss: 8.7297e-06\n",
            "Epoch 45/100\n",
            "3451/3451 [==============================] - 21s 6ms/step - loss: 8.3738e-06\n",
            "Epoch 46/100\n",
            "3451/3451 [==============================] - 21s 6ms/step - loss: 8.4611e-06\n",
            "Epoch 47/100\n",
            "3451/3451 [==============================] - 21s 6ms/step - loss: 8.6122e-06\n",
            "Epoch 48/100\n",
            "3451/3451 [==============================] - 22s 6ms/step - loss: 8.6034e-06\n",
            "Epoch 49/100\n",
            "3451/3451 [==============================] - 21s 6ms/step - loss: 8.3620e-06\n",
            "Epoch 50/100\n",
            "3451/3451 [==============================] - 21s 6ms/step - loss: 8.6020e-06\n",
            "Epoch 51/100\n",
            "3451/3451 [==============================] - 21s 6ms/step - loss: 8.4192e-06\n",
            "Epoch 52/100\n",
            "3451/3451 [==============================] - 21s 6ms/step - loss: 8.4529e-06\n",
            "Epoch 53/100\n",
            "3451/3451 [==============================] - 21s 6ms/step - loss: 8.2527e-06\n",
            "Epoch 54/100\n",
            "3451/3451 [==============================] - 21s 6ms/step - loss: 8.2252e-06\n",
            "Epoch 55/100\n",
            "3451/3451 [==============================] - 21s 6ms/step - loss: 8.5821e-06\n",
            "Epoch 56/100\n",
            "3451/3451 [==============================] - 21s 6ms/step - loss: 8.3965e-06\n",
            "Epoch 57/100\n",
            "3451/3451 [==============================] - 21s 6ms/step - loss: 8.3757e-06\n",
            "Epoch 58/100\n",
            "3451/3451 [==============================] - 21s 6ms/step - loss: 8.2952e-06\n",
            "Epoch 59/100\n",
            "3451/3451 [==============================] - 21s 6ms/step - loss: 8.3453e-06\n",
            "Epoch 60/100\n",
            "3451/3451 [==============================] - 21s 6ms/step - loss: 8.5937e-06\n",
            "Epoch 61/100\n",
            "3451/3451 [==============================] - 21s 6ms/step - loss: 8.3287e-06\n",
            "Epoch 62/100\n",
            "3451/3451 [==============================] - 21s 6ms/step - loss: 8.2653e-06\n",
            "Epoch 63/100\n",
            "3451/3451 [==============================] - 20s 6ms/step - loss: 8.2629e-06\n",
            "Epoch 64/100\n",
            "3451/3451 [==============================] - 21s 6ms/step - loss: 8.3580e-06\n",
            "Epoch 65/100\n",
            "3451/3451 [==============================] - 21s 6ms/step - loss: 8.3512e-06\n",
            "Epoch 66/100\n",
            "3451/3451 [==============================] - 21s 6ms/step - loss: 8.3094e-06\n",
            "Epoch 67/100\n",
            "3451/3451 [==============================] - 21s 6ms/step - loss: 8.1987e-06\n",
            "Epoch 68/100\n",
            "3451/3451 [==============================] - 21s 6ms/step - loss: 8.3857e-06\n",
            "Epoch 69/100\n",
            "3451/3451 [==============================] - 21s 6ms/step - loss: 8.2334e-06\n",
            "Epoch 70/100\n",
            "3451/3451 [==============================] - 21s 6ms/step - loss: 8.1807e-06\n",
            "Epoch 71/100\n",
            "3451/3451 [==============================] - 21s 6ms/step - loss: 8.3265e-06\n",
            "Epoch 72/100\n",
            "3451/3451 [==============================] - 21s 6ms/step - loss: 8.2171e-06\n",
            "Epoch 73/100\n",
            "3451/3451 [==============================] - 21s 6ms/step - loss: 8.2608e-06\n",
            "Epoch 74/100\n",
            "3451/3451 [==============================] - 21s 6ms/step - loss: 8.3325e-06\n",
            "Epoch 75/100\n",
            "3451/3451 [==============================] - 21s 6ms/step - loss: 8.1925e-06\n",
            "Epoch 76/100\n",
            "3451/3451 [==============================] - 21s 6ms/step - loss: 8.2359e-06\n",
            "Epoch 77/100\n",
            "3451/3451 [==============================] - 21s 6ms/step - loss: 8.2773e-06\n",
            "Epoch 78/100\n",
            "3451/3451 [==============================] - 20s 6ms/step - loss: 8.2488e-06\n",
            "Epoch 79/100\n",
            "3451/3451 [==============================] - 21s 6ms/step - loss: 8.2697e-06\n",
            "Epoch 80/100\n",
            "3451/3451 [==============================] - 21s 6ms/step - loss: 8.1417e-06\n",
            "Epoch 81/100\n",
            "3451/3451 [==============================] - 21s 6ms/step - loss: 8.0369e-06\n",
            "Epoch 82/100\n",
            "3451/3451 [==============================] - 21s 6ms/step - loss: 8.1818e-06\n",
            "Epoch 83/100\n",
            "3451/3451 [==============================] - 21s 6ms/step - loss: 8.1403e-06\n",
            "Epoch 84/100\n",
            "3451/3451 [==============================] - 21s 6ms/step - loss: 8.2529e-06\n",
            "Epoch 85/100\n",
            "3451/3451 [==============================] - 21s 6ms/step - loss: 8.1279e-06\n",
            "Epoch 86/100\n",
            "3451/3451 [==============================] - 21s 6ms/step - loss: 8.0978e-06\n",
            "Epoch 87/100\n",
            "3451/3451 [==============================] - 21s 6ms/step - loss: 8.1201e-06\n",
            "Epoch 88/100\n",
            "3451/3451 [==============================] - 21s 6ms/step - loss: 8.0667e-06\n",
            "Epoch 89/100\n",
            "3451/3451 [==============================] - 25s 7ms/step - loss: 8.1930e-06\n",
            "Epoch 90/100\n",
            "3451/3451 [==============================] - 22s 6ms/step - loss: 8.0578e-06\n",
            "Epoch 91/100\n",
            "3451/3451 [==============================] - 21s 6ms/step - loss: 8.0275e-06\n",
            "Epoch 92/100\n",
            "3451/3451 [==============================] - 21s 6ms/step - loss: 8.1043e-06\n",
            "Epoch 93/100\n",
            "3451/3451 [==============================] - 21s 6ms/step - loss: 8.0248e-06\n",
            "Epoch 94/100\n",
            "3451/3451 [==============================] - 21s 6ms/step - loss: 7.9740e-06\n",
            "Epoch 95/100\n",
            "3451/3451 [==============================] - 21s 6ms/step - loss: 8.1197e-06\n",
            "Epoch 96/100\n",
            "3451/3451 [==============================] - 21s 6ms/step - loss: 7.9452e-06\n",
            "Epoch 97/100\n",
            "3451/3451 [==============================] - 21s 6ms/step - loss: 8.0780e-06\n",
            "Epoch 98/100\n",
            "3451/3451 [==============================] - 21s 6ms/step - loss: 8.0023e-06\n",
            "Epoch 99/100\n",
            "3451/3451 [==============================] - 22s 6ms/step - loss: 8.0034e-06\n",
            "Epoch 100/100\n",
            "3451/3451 [==============================] - 21s 6ms/step - loss: 7.9989e-06\n"
          ]
        },
        {
          "output_type": "execute_result",
          "data": {
            "text/plain": [
              "<keras.callbacks.History at 0x7faed2194510>"
            ]
          },
          "metadata": {},
          "execution_count": 80
        }
      ]
    },
    {
      "cell_type": "code",
      "source": [
        "# faire des prévisions\n",
        "y_pred=model.predict(X_test)"
      ],
      "metadata": {
        "id": "nb79LoM22xgh"
      },
      "execution_count": null,
      "outputs": []
    },
    {
      "cell_type": "code",
      "source": [
        "#visualiser les résultats \n",
        "plt.plot(y_test,color='red',label='reel Close price')\n",
        "plt.plot(y_pred,color='blue',label='predict Close price')\n",
        "plt.title('predict vs reel Close prices')\n",
        "plt.xlabel('Temps')\n",
        "plt.ylabel('Close price')\n",
        "plt.legend()\n",
        "plt.show()"
      ],
      "metadata": {
        "colab": {
          "base_uri": "https://localhost:8080/",
          "height": 295
        },
        "id": "KQZjfLAj3Zxg",
        "outputId": "33e48e87-0cd1-4906-8174-3570390326e4"
      },
      "execution_count": null,
      "outputs": [
        {
          "output_type": "display_data",
          "data": {
            "text/plain": [
              "<Figure size 432x288 with 1 Axes>"
            ],
            "image/png": "[encoded data removed]"
          },
          "metadata": {
            "needs_background": "light"
          }
        }
      ]
    },
    {
      "cell_type": "code",
      "source": [
        "import seaborn as sns\n",
        "YT=pd.DataFrame(y_test)\n",
        "YP=pd.DataFrame(y_pred)"
      ],
      "metadata": {
        "id": "zkZxXMnCRJSF"
      },
      "execution_count": null,
      "outputs": []
    },
    {
      "cell_type": "code",
      "source": [
        "YT.columns=['YT']\n",
        "YP.columns=['YP']\n",
        "YP"
      ],
      "metadata": {
        "colab": {
          "base_uri": "https://localhost:8080/",
          "height": 424
        },
        "id": "pZ-FBtunZD_b",
        "outputId": "789bf85f-d128-4f06-a37d-a3a4eb970a1a"
      },
      "execution_count": null,
      "outputs": [
        {
          "output_type": "execute_result",
          "data": {
            "text/plain": [
              "             YP\n",
              "0      0.524423\n",
              "1      0.519974\n",
              "2      0.526125\n",
              "3      0.527643\n",
              "4      0.525371\n",
              "...         ...\n",
              "47313  0.598931\n",
              "47314  0.598251\n",
              "47315  0.596155\n",
              "47316  0.593204\n",
              "47317  0.594344\n",
              "\n",
              "[47318 rows x 1 columns]"
            ],
            "text/html": [
              "\n",
              "  <div id=\"df-7ae5f3e7-226a-4406-9a7f-ea8a0d09743f\">\n",
              "    <div class=\"colab-df-container\">\n",
              "      <div>\n",
              "<style scoped>\n",
              "    .dataframe tbody tr th:only-of-type {\n",
              "        vertical-align: middle;\n",
              "    }\n",
              "\n",
              "    .dataframe tbody tr th {\n",
              "        vertical-align: top;\n",
              "    }\n",
              "\n",
              "    .dataframe thead th {\n",
              "        text-align: right;\n",
              "    }\n",
              "</style>\n",
              "<table border=\"1\" class=\"dataframe\">\n",
              "  <thead>\n",
              "    <tr style=\"text-align: right;\">\n",
              "      <th></th>\n",
              "      <th>YP</th>\n",
              "    </tr>\n",
              "  </thead>\n",
              "  <tbody>\n",
              "    <tr>\n",
              "      <th>0</th>\n",
              "      <td>0.524423</td>\n",
              "    </tr>\n",
              "    <tr>\n",
              "      <th>1</th>\n",
              "      <td>0.519974</td>\n",
              "    </tr>\n",
              "    <tr>\n",
              "      <th>2</th>\n",
              "      <td>0.526125</td>\n",
              "    </tr>\n",
              "    <tr>\n",
              "      <th>3</th>\n",
              "      <td>0.527643</td>\n",
              "    </tr>\n",
              "    <tr>\n",
              "      <th>4</th>\n",
              "      <td>0.525371</td>\n",
              "    </tr>\n",
              "    <tr>\n",
              "      <th>...</th>\n",
              "      <td>...</td>\n",
              "    </tr>\n",
              "    <tr>\n",
              "      <th>47313</th>\n",
              "      <td>0.598931</td>\n",
              "    </tr>\n",
              "    <tr>\n",
              "      <th>47314</th>\n",
              "      <td>0.598251</td>\n",
              "    </tr>\n",
              "    <tr>\n",
              "      <th>47315</th>\n",
              "      <td>0.596155</td>\n",
              "    </tr>\n",
              "    <tr>\n",
              "      <th>47316</th>\n",
              "      <td>0.593204</td>\n",
              "    </tr>\n",
              "    <tr>\n",
              "      <th>47317</th>\n",
              "      <td>0.594344</td>\n",
              "    </tr>\n",
              "  </tbody>\n",
              "</table>\n",
              "<p>47318 rows × 1 columns</p>\n",
              "</div>\n",
              "      <button class=\"colab-df-convert\" onclick=\"convertToInteractive('df-7ae5f3e7-226a-4406-9a7f-ea8a0d09743f')\"\n",
              "              title=\"Convert this dataframe to an interactive table.\"\n",
              "              style=\"display:none;\">\n",
              "        \n",
              "  <svg xmlns=\"http://www.w3.org/2000/svg\" height=\"24px\"viewBox=\"0 0 24 24\"\n",
              "       width=\"24px\">\n",
              "    <path d=\"M0 0h24v24H0V0z\" fill=\"none\"/>\n",
              "    <path d=\"M18.56 5.44l.94 2.06.94-2.06 2.06-.94-2.06-.94-.94-2.06-.94 2.06-2.06.94zm-11 1L8.5 8.5l.94-2.06 2.06-.94-2.06-.94L8.5 2.5l-.94 2.06-2.06.94zm10 10l.94 2.06.94-2.06 2.06-.94-2.06-.94-.94-2.06-.94 2.06-2.06.94z\"/><path d=\"M17.41 7.96l-1.37-1.37c-.4-.4-.92-.59-1.43-.59-.52 0-1.04.2-1.43.59L10.3 9.45l-7.72 7.72c-.78.78-.78 2.05 0 2.83L4 21.41c.39.39.9.59 1.41.59.51 0 1.02-.2 1.41-.59l7.78-7.78 2.81-2.81c.8-.78.8-2.07 0-2.86zM5.41 20L4 18.59l7.72-7.72 1.47 1.35L5.41 20z\"/>\n",
              "  </svg>\n",
              "      </button>\n",
              "      \n",
              "  <style>\n",
              "    .colab-df-container {\n",
              "      display:flex;\n",
              "      flex-wrap:wrap;\n",
              "      gap: 12px;\n",
              "    }\n",
              "\n",
              "    .colab-df-convert {\n",
              "      background-color: #E8F0FE;\n",
              "      border: none;\n",
              "      border-radius: 50%;\n",
              "      cursor: pointer;\n",
              "      display: none;\n",
              "      fill: #1967D2;\n",
              "      height: 32px;\n",
              "      padding: 0 0 0 0;\n",
              "      width: 32px;\n",
              "    }\n",
              "\n",
              "    .colab-df-convert:hover {\n",
              "      background-color: #E2EBFA;\n",
              "      box-shadow: 0px 1px 2px rgba(60, 64, 67, 0.3), 0px 1px 3px 1px rgba(60, 64, 67, 0.15);\n",
              "      fill: #174EA6;\n",
              "    }\n",
              "\n",
              "    [theme=dark] .colab-df-convert {\n",
              "      background-color: #3B4455;\n",
              "      fill: #D2E3FC;\n",
              "    }\n",
              "\n",
              "    [theme=dark] .colab-df-convert:hover {\n",
              "      background-color: #434B5C;\n",
              "      box-shadow: 0px 1px 3px 1px rgba(0, 0, 0, 0.15);\n",
              "      filter: drop-shadow(0px 1px 2px rgba(0, 0, 0, 0.3));\n",
              "      fill: #FFFFFF;\n",
              "    }\n",
              "  </style>\n",
              "\n",
              "      <script>\n",
              "        const buttonEl =\n",
              "          document.querySelector('#df-7ae5f3e7-226a-4406-9a7f-ea8a0d09743f button.colab-df-convert');\n",
              "        buttonEl.style.display =\n",
              "          google.colab.kernel.accessAllowed ? 'block' : 'none';\n",
              "\n",
              "        async function convertToInteractive(key) {\n",
              "          const element = document.querySelector('#df-7ae5f3e7-226a-4406-9a7f-ea8a0d09743f');\n",
              "          const dataTable =\n",
              "            await google.colab.kernel.invokeFunction('convertToInteractive',\n",
              "                                                     [key], {});\n",
              "          if (!dataTable) return;\n",
              "\n",
              "          const docLinkHtml = 'Like what you see? Visit the ' +\n",
              "            '<a target=\"_blank\" href=https://colab.research.google.com/notebooks/data_table.ipynb>data table notebook</a>'\n",
              "            + ' to learn more about interactive tables.';\n",
              "          element.innerHTML = '';\n",
              "          dataTable['output_type'] = 'display_data';\n",
              "          await google.colab.output.renderOutput(dataTable, element);\n",
              "          const docLink = document.createElement('div');\n",
              "          docLink.innerHTML = docLinkHtml;\n",
              "          element.appendChild(docLink);\n",
              "        }\n",
              "      </script>\n",
              "    </div>\n",
              "  </div>\n",
              "  "
            ]
          },
          "metadata": {},
          "execution_count": 86
        }
      ]
    },
    {
      "cell_type": "code",
      "source": [
        "YT"
      ],
      "metadata": {
        "colab": {
          "base_uri": "https://localhost:8080/",
          "height": 424
        },
        "id": "X7gLADkPZh8y",
        "outputId": "8b14a5b2-044b-4866-f59a-f704f9993c26"
      },
      "execution_count": null,
      "outputs": [
        {
          "output_type": "execute_result",
          "data": {
            "text/plain": [
              "             YT\n",
              "0      0.519914\n",
              "1      0.526092\n",
              "2      0.527616\n",
              "3      0.525334\n",
              "4      0.524481\n",
              "...         ...\n",
              "47313  0.598516\n",
              "47314  0.596412\n",
              "47315  0.593450\n",
              "47316  0.594594\n",
              "47317  0.594593\n",
              "\n",
              "[47318 rows x 1 columns]"
            ],
            "text/html": [
              "\n",
              "  <div id=\"df-3d1650ac-a1cc-4fa9-8bf0-7123142c6f5a\">\n",
              "    <div class=\"colab-df-container\">\n",
              "      <div>\n",
              "<style scoped>\n",
              "    .dataframe tbody tr th:only-of-type {\n",
              "        vertical-align: middle;\n",
              "    }\n",
              "\n",
              "    .dataframe tbody tr th {\n",
              "        vertical-align: top;\n",
              "    }\n",
              "\n",
              "    .dataframe thead th {\n",
              "        text-align: right;\n",
              "    }\n",
              "</style>\n",
              "<table border=\"1\" class=\"dataframe\">\n",
              "  <thead>\n",
              "    <tr style=\"text-align: right;\">\n",
              "      <th></th>\n",
              "      <th>YT</th>\n",
              "    </tr>\n",
              "  </thead>\n",
              "  <tbody>\n",
              "    <tr>\n",
              "      <th>0</th>\n",
              "      <td>0.519914</td>\n",
              "    </tr>\n",
              "    <tr>\n",
              "      <th>1</th>\n",
              "      <td>0.526092</td>\n",
              "    </tr>\n",
              "    <tr>\n",
              "      <th>2</th>\n",
              "      <td>0.527616</td>\n",
              "    </tr>\n",
              "    <tr>\n",
              "      <th>3</th>\n",
              "      <td>0.525334</td>\n",
              "    </tr>\n",
              "    <tr>\n",
              "      <th>4</th>\n",
              "      <td>0.524481</td>\n",
              "    </tr>\n",
              "    <tr>\n",
              "      <th>...</th>\n",
              "      <td>...</td>\n",
              "    </tr>\n",
              "    <tr>\n",
              "      <th>47313</th>\n",
              "      <td>0.598516</td>\n",
              "    </tr>\n",
              "    <tr>\n",
              "      <th>47314</th>\n",
              "      <td>0.596412</td>\n",
              "    </tr>\n",
              "    <tr>\n",
              "      <th>47315</th>\n",
              "      <td>0.593450</td>\n",
              "    </tr>\n",
              "    <tr>\n",
              "      <th>47316</th>\n",
              "      <td>0.594594</td>\n",
              "    </tr>\n",
              "    <tr>\n",
              "      <th>47317</th>\n",
              "      <td>0.594593</td>\n",
              "    </tr>\n",
              "  </tbody>\n",
              "</table>\n",
              "<p>47318 rows × 1 columns</p>\n",
              "</div>\n",
              "      <button class=\"colab-df-convert\" onclick=\"convertToInteractive('df-3d1650ac-a1cc-4fa9-8bf0-7123142c6f5a')\"\n",
              "              title=\"Convert this dataframe to an interactive table.\"\n",
              "              style=\"display:none;\">\n",
              "        \n",
              "  <svg xmlns=\"http://www.w3.org/2000/svg\" height=\"24px\"viewBox=\"0 0 24 24\"\n",
              "       width=\"24px\">\n",
              "    <path d=\"M0 0h24v24H0V0z\" fill=\"none\"/>\n",
              "    <path d=\"M18.56 5.44l.94 2.06.94-2.06 2.06-.94-2.06-.94-.94-2.06-.94 2.06-2.06.94zm-11 1L8.5 8.5l.94-2.06 2.06-.94-2.06-.94L8.5 2.5l-.94 2.06-2.06.94zm10 10l.94 2.06.94-2.06 2.06-.94-2.06-.94-.94-2.06-.94 2.06-2.06.94z\"/><path d=\"M17.41 7.96l-1.37-1.37c-.4-.4-.92-.59-1.43-.59-.52 0-1.04.2-1.43.59L10.3 9.45l-7.72 7.72c-.78.78-.78 2.05 0 2.83L4 21.41c.39.39.9.59 1.41.59.51 0 1.02-.2 1.41-.59l7.78-7.78 2.81-2.81c.8-.78.8-2.07 0-2.86zM5.41 20L4 18.59l7.72-7.72 1.47 1.35L5.41 20z\"/>\n",
              "  </svg>\n",
              "      </button>\n",
              "      \n",
              "  <style>\n",
              "    .colab-df-container {\n",
              "      display:flex;\n",
              "      flex-wrap:wrap;\n",
              "      gap: 12px;\n",
              "    }\n",
              "\n",
              "    .colab-df-convert {\n",
              "      background-color: #E8F0FE;\n",
              "      border: none;\n",
              "      border-radius: 50%;\n",
              "      cursor: pointer;\n",
              "      display: none;\n",
              "      fill: #1967D2;\n",
              "      height: 32px;\n",
              "      padding: 0 0 0 0;\n",
              "      width: 32px;\n",
              "    }\n",
              "\n",
              "    .colab-df-convert:hover {\n",
              "      background-color: #E2EBFA;\n",
              "      box-shadow: 0px 1px 2px rgba(60, 64, 67, 0.3), 0px 1px 3px 1px rgba(60, 64, 67, 0.15);\n",
              "      fill: #174EA6;\n",
              "    }\n",
              "\n",
              "    [theme=dark] .colab-df-convert {\n",
              "      background-color: #3B4455;\n",
              "      fill: #D2E3FC;\n",
              "    }\n",
              "\n",
              "    [theme=dark] .colab-df-convert:hover {\n",
              "      background-color: #434B5C;\n",
              "      box-shadow: 0px 1px 3px 1px rgba(0, 0, 0, 0.15);\n",
              "      filter: drop-shadow(0px 1px 2px rgba(0, 0, 0, 0.3));\n",
              "      fill: #FFFFFF;\n",
              "    }\n",
              "  </style>\n",
              "\n",
              "      <script>\n",
              "        const buttonEl =\n",
              "          document.querySelector('#df-3d1650ac-a1cc-4fa9-8bf0-7123142c6f5a button.colab-df-convert');\n",
              "        buttonEl.style.display =\n",
              "          google.colab.kernel.accessAllowed ? 'block' : 'none';\n",
              "\n",
              "        async function convertToInteractive(key) {\n",
              "          const element = document.querySelector('#df-3d1650ac-a1cc-4fa9-8bf0-7123142c6f5a');\n",
              "          const dataTable =\n",
              "            await google.colab.kernel.invokeFunction('convertToInteractive',\n",
              "                                                     [key], {});\n",
              "          if (!dataTable) return;\n",
              "\n",
              "          const docLinkHtml = 'Like what you see? Visit the ' +\n",
              "            '<a target=\"_blank\" href=https://colab.research.google.com/notebooks/data_table.ipynb>data table notebook</a>'\n",
              "            + ' to learn more about interactive tables.';\n",
              "          element.innerHTML = '';\n",
              "          dataTable['output_type'] = 'display_data';\n",
              "          await google.colab.output.renderOutput(dataTable, element);\n",
              "          const docLink = document.createElement('div');\n",
              "          docLink.innerHTML = docLinkHtml;\n",
              "          element.appendChild(docLink);\n",
              "        }\n",
              "      </script>\n",
              "    </div>\n",
              "  </div>\n",
              "  "
            ]
          },
          "metadata": {},
          "execution_count": 89
        }
      ]
    },
    {
      "cell_type": "code",
      "source": [
        "combined=YT.join(YP)\n",
        "matrix=combined.head(500).corr()\n",
        "f,ax=plt.subplots(figsize=(10,7))\n",
        "sns.heatmap(matrix,vmax=1,square=True,cmap='BuPu',annot=True)\n",
        "ax.set_title('corrélation entre YT & YP')"
      ],
      "metadata": {
        "colab": {
          "base_uri": "https://localhost:8080/",
          "height": 461
        },
        "id": "HQzuYvkxZRkl",
        "outputId": "fb7c5019-ac52-433b-da62-568efffb40be"
      },
      "execution_count": null,
      "outputs": [
        {
          "output_type": "execute_result",
          "data": {
            "text/plain": [
              "Text(0.5, 1.0, 'corrélation entre YT & YP')"
            ]
          },
          "metadata": {},
          "execution_count": 90
        },
        {
          "output_type": "display_data",
          "data": {
            "text/plain": [
              "<Figure size 720x504 with 2 Axes>"
            ],
            "image/png": "[encoded data removed]"
          },
          "metadata": {
            "needs_background": "light"
          }
        }
      ]
    }
  ]
}